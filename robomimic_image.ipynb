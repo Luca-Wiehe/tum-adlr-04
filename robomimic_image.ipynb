{
 "cells": [
  {
   "cell_type": "markdown",
   "metadata": {},
   "source": [
    "## Robomimic Image"
   ]
  },
  {
   "cell_type": "markdown",
   "metadata": {},
   "source": [
    "### Questions to answer\n",
    "+ What are the most important imports/files that this module makes use of?\n",
    "+ What are the inputs? \n",
    "+ What are the outputs? \n",
    "+ How to initialize? \n",
    "+ How to start a visualization? \n",
    "+ Where is the model used?\n",
    "+ What kind of experiments are conducted with lowdim?"
   ]
  },
  {
   "cell_type": "markdown",
   "metadata": {},
   "source": [
    "### Image Wrapper"
   ]
  },
  {
   "cell_type": "markdown",
   "metadata": {},
   "source": [
    "Initialize class using `RobomimicImageWrapper()` as described in `robomimic_image_wrapper.py`\n",
    "+ OpenAI Gym Simulation environment\n",
    "    + `.step(action)` performs next action and returns `observation`, `reward`, `done`, `info`\n",
    "    + `.reset()` resets the environment (states, observations)\n",
    "    + `.get_observation()` returns the current observation\n",
    "+ An observation has the following attributes:\n",
    "    + `image`: RGB image of the environment\n",
    "    + `pos`: position of the robot\n",
    "    + `qpos`: joint positions of the robot\n",
    "    + `quat`: quaternion of the robot"
   ]
  },
  {
   "cell_type": "markdown",
   "metadata": {},
   "source": [
    "### Image Policy"
   ]
  },
  {
   "cell_type": "markdown",
   "metadata": {},
   "source": [
    "Initialize class using `RobomimicImagePolicy()` as described in `robomimic_image_policy.py`\n",
    "+ Inherits from `BaseImagePolicy` class as defined in `base_image_policy.py` which has the following key properties:\n",
    "    + `predict_action(obs_dict)`: Function stub to predict the next action given the observation\n",
    "    + `reset()`: Function stub to reset the policy\n",
    "    + `set_normalizer()`: Function stub to set the policy's normalizer\n",
    "+ Extends `BaseImagePolicy`\n",
    "    + For initialization\n",
    "        + `get_robo_mimic_config()`: Creates a config file for robomimic based on algorithm, observation structure, task, and dataset type\n",
    "        + `algo_factory()`: Initializes a model for the given algorithm based on config file and available actions\n",
    "    + For training\n",
    "        + `train_on_batch()`: Uses observations and actions. Preprocesses a robomimic batch and calls `model.train()` to train the model\n",
    "    + For inference\n",
    "        + `predict_action()`: Predicts the next action given the observation"
   ]
  },
  {
   "cell_type": "markdown",
   "metadata": {},
   "source": [
    "### Image Runner"
   ]
  },
  {
   "cell_type": "markdown",
   "metadata": {},
   "source": [
    "Initialize class using `RobomimicImageRunner(**runner_cfg, output_dir)` as described `robomimic_image_runner.py`. Example usage is given in `test_robomimic_image_runner.py`.\n",
    "+ Inherits from `BaseImageRunner` class as defined in `base_image_runner.py` which has the following key properties:\n",
    "    + `run()`: Function stub to run the policy\n",
    "    + `save()`: Function stub to save the policy\n",
    "    + `load()`: Function stub to load the policy\n",
    "+ Extends `BaseImageRunner`\n",
    "    + For initialization\n",
    "    + For training\n",
    "    + For running"
   ]
  },
  {
   "cell_type": "code",
   "execution_count": null,
   "metadata": {},
   "outputs": [],
   "source": []
  }
 ],
 "metadata": {
  "language_info": {
   "name": "python"
  }
 },
 "nbformat": 4,
 "nbformat_minor": 2
}
