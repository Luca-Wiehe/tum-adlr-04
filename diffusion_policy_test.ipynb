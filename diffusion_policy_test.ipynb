{
 "cells": [
  {
   "cell_type": "markdown",
   "metadata": {},
   "source": [
    "# Test Notebook"
   ]
  },
  {
   "cell_type": "markdown",
   "metadata": {},
   "source": [
    "The codebase from the Original `Diffusion Policy` paper makes use of the `robomimic` dataset. It is important to understand the most important components of the workflow to test different architectures later on. The main files that are used for robomimic are:\n",
    "\n",
    "/diffusion_policy <br>\n",
    "&emsp;/env <br>\n",
    "&emsp;&emsp;/robomimic <br>\n",
    "&emsp;&emsp;&emsp;robomimic_image_wrapper.py <br>\n",
    "&emsp;&emsp;&emsp;robomimic_lowdim_wrapper.py <br>\n",
    "&emsp;/env_runner <br>\n",
    "&emsp;&emsp;robomimic_image_runner.py <br>\n",
    "&emsp;&emsp;robomimic_lowdim_runner.py <br>"
   ]
  },
  {
   "cell_type": "code",
   "execution_count": null,
   "metadata": {},
   "outputs": [],
   "source": []
  }
 ],
 "metadata": {
  "language_info": {
   "name": "python"
  }
 },
 "nbformat": 4,
 "nbformat_minor": 2
}
