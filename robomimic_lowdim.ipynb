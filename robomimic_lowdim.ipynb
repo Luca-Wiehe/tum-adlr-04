{
 "cells": [
  {
   "cell_type": "markdown",
   "metadata": {},
   "source": [
    "### Use this notebook to document Robomimic Lowdim"
   ]
  },
  {
   "cell_type": "markdown",
   "metadata": {},
   "source": [
    "Questions to answer: \n",
    "+ What are the most important imports/files that this module makes use of?\n",
    "+ What are the inputs? \n",
    "+ What are the outputs? \n",
    "+ How to initialize? \n",
    "+ How to start a visualization? \n",
    "+ Where is the model used?\n",
    "+ What kind of experiments are conducted with lowdim?"
   ]
  },
  {
   "cell_type": "code",
   "execution_count": null,
   "metadata": {},
   "outputs": [],
   "source": []
  }
 ],
 "metadata": {
  "language_info": {
   "name": "python"
  }
 },
 "nbformat": 4,
 "nbformat_minor": 2
}
